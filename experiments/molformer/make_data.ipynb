{
 "cells": [
  {
   "cell_type": "markdown",
   "id": "2baa1864-1638-41a8-b885-a9fff9c1a2a2",
   "metadata": {},
   "source": [
    "#This notebook reproduces the data pre-processing in order to run MolFormer. You shouldn't need to re-run this notebook!"
   ]
  },
  {
   "cell_type": "code",
   "execution_count": 1,
   "id": "f56a912d",
   "metadata": {},
   "outputs": [],
   "source": [
    "import numpy as np\n",
    "import pandas as pd\n",
    "import os\n",
    "from flask_ood.datasets.SMILESDataset import *\n",
    "from flask_ood.data.load_processed_data import _load_qm9_data"
   ]
  },
  {
   "cell_type": "code",
   "execution_count": 2,
   "id": "f222596c-e284-49b5-9a10-50c7cf8645c7",
   "metadata": {},
   "outputs": [],
   "source": [
    "def dataframe_wrapper(dataset, prop_name):\n",
    "    \"\"\"\n",
    "    Wraps the dataset into a pandas dataframe.\n",
    "    \"\"\"\n",
    "    num_samples = len(dataset)\n",
    "    df = pd.DataFrame(columns=[\"smiles\", prop_name])\n",
    "\n",
    "    for i in range(num_samples):\n",
    "        smiles, target = dataset[i]\n",
    "        df.loc[i] = [smiles, target]\n",
    "    return df\n",
    "\n",
    "def dataframe_wrapper_QM9(dataset,prop_name):\n",
    "    \"\"\"\n",
    "    Wraps the dataset into a pandas dataframe.\n",
    "    \"\"\"\n",
    "    num_samples = len(dataset['smiles'])\n",
    "    df = pd.DataFrame(columns=[\"smiles\", 'qm9_' +prop_name])\n",
    "\n",
    "    for i in range(num_samples):\n",
    "        smiles=dataset['smiles'][i]\n",
    "        target=dataset[prop_name][i]\n",
    "        df.loc[i] = [smiles, target]\n",
    "    return df"
   ]
  },
  {
   "cell_type": "code",
   "execution_count": 4,
   "id": "22d4df1b",
   "metadata": {},
   "outputs": [
    {
     "name": "stdout",
     "output_type": "stream",
     "text": [
      "Done 10k Density!\n",
      "Done 10k HoF!\n",
      "Done QM9 alpha!\n",
      "Done QM9 cv!\n",
      "Done QM9 gap!\n",
      "Done QM9 homo!\n",
      "Done QM9 lumo!\n",
      "Done QM9 mu!\n",
      "Done QM9 r2!\n",
      "Done QM9 zpve!\n"
     ]
    }
   ],
   "source": [
    "#10k Density\n",
    "train_dataset = TrainDensityDataset()\n",
    "iid_test_dataset = IIDDensityDataset()\n",
    "ood_test_dataset = OODDensityDataset()\n",
    "train_df = dataframe_wrapper(train_dataset, 'density')\n",
    "iid_test_df=dataframe_wrapper(iid_test_dataset, 'density')\n",
    "ood_test_df=dataframe_wrapper(ood_test_dataset, 'density')\n",
    "os.makedirs('data_OOD_new/10k_dft_density_OOD',exist_ok=True)\n",
    "train_df.to_csv('data_OOD_new/10k_dft_density_OOD/10k_dft_density_OOD_train.csv',index=False)\n",
    "train_df.to_csv('data_OOD_new/10k_dft_density_OOD/10k_dft_density_OOD_valid.csv',index=False) #also set validation- required for molformer\n",
    "iid_test_df.to_csv('data_OOD_new/10k_dft_density_OOD/10k_dft_density_OOD_test.csv',index=False) #originally set iid split as test set\n",
    "iid_test_df.to_csv('data_OOD_new/10k_dft_density_OOD/10k_dft_density_OOD_iid_test.csv',index=False) \n",
    "ood_test_df.to_csv('data_OOD_new/10k_dft_density_OOD/10k_dft_density_OOD_ood_test.csv',index=False) \n",
    "print('Done 10k Density!')\n",
    "\n",
    "#10k HoF\n",
    "train_dataset = TrainHoFDataset()\n",
    "iid_test_dataset = IIDHoFDataset()\n",
    "ood_test_dataset = OODHoFDataset()\n",
    "train_df = dataframe_wrapper(train_dataset, 'hof')\n",
    "iid_test_df=dataframe_wrapper(iid_test_dataset, 'hof')\n",
    "ood_test_df=dataframe_wrapper(ood_test_dataset, 'hof')\n",
    "os.makedirs('data_OOD_new/10k_dft_hof_OOD',exist_ok=True)\n",
    "train_df.to_csv('data_OOD_new/10k_dft_hof_OOD/10k_dft_hof_OOD_train.csv',index=False)\n",
    "train_df.to_csv('data_OOD_new/10k_dft_hof_OOD/10k_dft_hof_OOD_valid.csv',index=False) #also set validation- required for molformer\n",
    "iid_test_df.to_csv('data_OOD_new/10k_dft_hof_OOD/10k_dft_hof_OOD_test.csv',index=False) #originally set iid split as test set\n",
    "iid_test_df.to_csv('data_OOD_new/10k_dft_hof_OOD/10k_dft_hof_OOD_iid_test.csv',index=False) \n",
    "ood_test_df.to_csv('data_OOD_new/10k_dft_hof_OOD/10k_dft_hof_OOD_ood_test.csv',index=False) \n",
    "print('Done 10k HoF!')\n",
    "\n",
    "#Do all the QM9 properties.\n",
    "for prop in ['alpha','cv','gap','homo','lumo','mu','r2','zpve']:\n",
    "    data=_load_qm9_data(prop)\n",
    "    train_dataset, iid_test_dataset, ood_test_dataset=data['train_'+prop],data['iid_'+prop],data['ood_'+prop]\n",
    "    train_df=dataframe_wrapper_QM9(train_dataset, prop_name=prop)\n",
    "    iid_test_df=dataframe_wrapper_QM9(iid_test_dataset, prop_name=prop)\n",
    "    ood_test_df=dataframe_wrapper_QM9(ood_test_dataset, prop_name=prop)\n",
    "    os.makedirs('data_OOD_new/qm9_'+prop+'_OOD',exist_ok=True)\n",
    "    train_df.to_csv('data_OOD_new/qm9_'+prop+'_OOD/qm9_'+prop+'_OOD_train.csv',index=False)\n",
    "    train_df.to_csv('data_OOD_new/qm9_'+prop+'_OOD/qm9_'+prop+'_OOD_valid.csv',index=False) #also set validation- required for molformer\n",
    "    iid_test_df.to_csv('data_OOD_new/qm9_'+prop+'_OOD/qm9_'+prop+'_OOD_test.csv',index=False) #originally set iid split as test set\n",
    "    iid_test_df.to_csv('data_OOD_new/qm9_'+prop+'_OOD/qm9_'+prop+'_OOD_iid_test.csv',index=False) \n",
    "    ood_test_df.to_csv('data_OOD_new/qm9_'+prop+'_OOD/qm9_'+prop+'_OOD_ood_test.csv',index=False) \n",
    "    print('Done QM9 '+prop+'!')\n"
   ]
  },
  {
   "cell_type": "code",
   "execution_count": null,
   "id": "3bbec92e-3da6-49de-8692-698f9772273a",
   "metadata": {},
   "outputs": [],
   "source": []
  }
 ],
 "metadata": {
  "kernelspec": {
   "display_name": "Python 3",
   "language": "python",
   "name": "python3"
  },
  "language_info": {
   "codemirror_mode": {
    "name": "ipython",
    "version": 3
   },
   "file_extension": ".py",
   "mimetype": "text/x-python",
   "name": "python",
   "nbconvert_exporter": "python",
   "pygments_lexer": "ipython3",
   "version": "3.8.8"
  }
 },
 "nbformat": 4,
 "nbformat_minor": 5
}
